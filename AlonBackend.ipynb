{
  "nbformat": 4,
  "nbformat_minor": 0,
  "metadata": {
    "colab": {
      "name": "AlonBackend.ipynb",
      "provenance": [],
      "collapsed_sections": [],
      "authorship_tag": "ABX9TyNwdrhaafAWS2sh+hS2/xRp",
      "include_colab_link": true
    },
    "kernelspec": {
      "name": "python3",
      "display_name": "Python 3"
    }
  },
  "cells": [
    {
      "cell_type": "markdown",
      "metadata": {
        "id": "view-in-github",
        "colab_type": "text"
      },
      "source": [
        "<a href=\"https://colab.research.google.com/github/Martinnavs/AlonRepo/blob/master/AlonBackend.ipynb\" target=\"_parent\"><img src=\"https://colab.research.google.com/assets/colab-badge.svg\" alt=\"Open In Colab\"/></a>"
      ]
    },
    {
      "cell_type": "code",
      "metadata": {
        "id": "qLiJFaiq1aff"
      },
      "source": [
        "from random import randint as ri\n",
        "\n",
        "buoy = [ri(1,10) for i in range(1000)] # randomizes 1000 buoy locations\n",
        "\n",
        "def gentime(rn:int) : # generates random time\n",
        "    x = ri(0,rn)\n",
        "    if(x<10):\n",
        "        return \"0\"+str(x)\n",
        "    else:\n",
        "        return str(x)\n",
        "        \n",
        "def gendate(): # generates a random date from 2018-2020\n",
        "    yr = str(ri(2010,2020))+\"-\"\n",
        "    mt = ri(1,12)\n",
        "    mt = \"0\"+str(mt) if mt < 10 else str(mt)\n",
        "    dy = ri(1,30) # sample rani\n",
        "    dy = \"0\"+str(dy) if dy < 10 else str(dy)\n",
        "    return yr+mt+\"-\"+dy\n",
        "\n",
        "# generates 1000 random timestamps from 2010-2020\n",
        "time = [gendate() + \" \" + gentime(23)+\":\"+gentime(59)+\":\"+gentime(59) for i in range(1000)]\n",
        "time.sort()"
      ],
      "execution_count": null,
      "outputs": []
    },
    {
      "cell_type": "code",
      "metadata": {
        "id": "86lWhgr2pjL0",
        "colab": {
          "base_uri": "https://localhost:8080/",
          "height": 131
        },
        "outputId": "14d071de-21b3-418e-c5c1-ba5dd1de1acb"
      },
      "source": [
        "!git clone https://github.com/Martinnavs/ProjectAlon.git"
      ],
      "execution_count": null,
      "outputs": [
        {
          "output_type": "stream",
          "text": [
            "Cloning into 'ProjectAlon'...\n",
            "remote: Enumerating objects: 21, done.\u001b[K\n",
            "remote: Counting objects: 100% (21/21), done.\u001b[K\n",
            "remote: Compressing objects: 100% (19/19), done.\u001b[K\n",
            "remote: Total 21 (delta 6), reused 0 (delta 0), pack-reused 0\u001b[K\n",
            "Unpacking objects: 100% (21/21), done.\n"
          ],
          "name": "stdout"
        }
      ]
    },
    {
      "cell_type": "code",
      "metadata": {
        "id": "b2c_WM1ep89e",
        "colab": {
          "base_uri": "https://localhost:8080/",
          "height": 664
        },
        "outputId": "4e2780a8-bc92-4bd8-e6b5-e35ce093d2e4"
      },
      "source": [
        "!pip install geopandas\n",
        "!pip install descartes"
      ],
      "execution_count": null,
      "outputs": [
        {
          "output_type": "stream",
          "text": [
            "Collecting geopandas\n",
            "\u001b[?25l  Downloading https://files.pythonhosted.org/packages/f7/a4/e66aafbefcbb717813bf3a355c8c4fc3ed04ea1dd7feb2920f2f4f868921/geopandas-0.8.1-py2.py3-none-any.whl (962kB)\n",
            "\u001b[K     |████████████████████████████████| 972kB 2.7MB/s \n",
            "\u001b[?25hRequirement already satisfied: pandas>=0.23.0 in /usr/local/lib/python3.6/dist-packages (from geopandas) (1.0.5)\n",
            "Collecting pyproj>=2.2.0\n",
            "\u001b[?25l  Downloading https://files.pythonhosted.org/packages/e5/c3/071e080230ac4b6c64f1a2e2f9161c9737a2bc7b683d2c90b024825000c0/pyproj-2.6.1.post1-cp36-cp36m-manylinux2010_x86_64.whl (10.9MB)\n",
            "\u001b[K     |████████████████████████████████| 10.9MB 14.7MB/s \n",
            "\u001b[?25hCollecting fiona\n",
            "\u001b[?25l  Downloading https://files.pythonhosted.org/packages/ec/20/4e63bc5c6e62df889297b382c3ccd4a7a488b00946aaaf81a118158c6f09/Fiona-1.8.13.post1-cp36-cp36m-manylinux1_x86_64.whl (14.7MB)\n",
            "\u001b[K     |████████████████████████████████| 14.7MB 301kB/s \n",
            "\u001b[?25hRequirement already satisfied: shapely in /usr/local/lib/python3.6/dist-packages (from geopandas) (1.7.1)\n",
            "Requirement already satisfied: pytz>=2017.2 in /usr/local/lib/python3.6/dist-packages (from pandas>=0.23.0->geopandas) (2018.9)\n",
            "Requirement already satisfied: python-dateutil>=2.6.1 in /usr/local/lib/python3.6/dist-packages (from pandas>=0.23.0->geopandas) (2.8.1)\n",
            "Requirement already satisfied: numpy>=1.13.3 in /usr/local/lib/python3.6/dist-packages (from pandas>=0.23.0->geopandas) (1.18.5)\n",
            "Requirement already satisfied: attrs>=17 in /usr/local/lib/python3.6/dist-packages (from fiona->geopandas) (20.1.0)\n",
            "Collecting munch\n",
            "  Downloading https://files.pythonhosted.org/packages/cc/ab/85d8da5c9a45e072301beb37ad7f833cd344e04c817d97e0cc75681d248f/munch-2.5.0-py2.py3-none-any.whl\n",
            "Collecting click-plugins>=1.0\n",
            "  Downloading https://files.pythonhosted.org/packages/e9/da/824b92d9942f4e472702488857914bdd50f73021efea15b4cad9aca8ecef/click_plugins-1.1.1-py2.py3-none-any.whl\n",
            "Requirement already satisfied: click<8,>=4.0 in /usr/local/lib/python3.6/dist-packages (from fiona->geopandas) (7.1.2)\n",
            "Requirement already satisfied: six>=1.7 in /usr/local/lib/python3.6/dist-packages (from fiona->geopandas) (1.15.0)\n",
            "Collecting cligj>=0.5\n",
            "  Downloading https://files.pythonhosted.org/packages/e4/be/30a58b4b0733850280d01f8bd132591b4668ed5c7046761098d665ac2174/cligj-0.5.0-py3-none-any.whl\n",
            "Installing collected packages: pyproj, munch, click-plugins, cligj, fiona, geopandas\n",
            "Successfully installed click-plugins-1.1.1 cligj-0.5.0 fiona-1.8.13.post1 geopandas-0.8.1 munch-2.5.0 pyproj-2.6.1.post1\n",
            "Requirement already satisfied: descartes in /usr/local/lib/python3.6/dist-packages (1.1.0)\n",
            "Requirement already satisfied: matplotlib in /usr/local/lib/python3.6/dist-packages (from descartes) (3.2.2)\n",
            "Requirement already satisfied: pyparsing!=2.0.4,!=2.1.2,!=2.1.6,>=2.0.1 in /usr/local/lib/python3.6/dist-packages (from matplotlib->descartes) (2.4.7)\n",
            "Requirement already satisfied: kiwisolver>=1.0.1 in /usr/local/lib/python3.6/dist-packages (from matplotlib->descartes) (1.2.0)\n",
            "Requirement already satisfied: cycler>=0.10 in /usr/local/lib/python3.6/dist-packages (from matplotlib->descartes) (0.10.0)\n",
            "Requirement already satisfied: python-dateutil>=2.1 in /usr/local/lib/python3.6/dist-packages (from matplotlib->descartes) (2.8.1)\n",
            "Requirement already satisfied: numpy>=1.11 in /usr/local/lib/python3.6/dist-packages (from matplotlib->descartes) (1.18.5)\n",
            "Requirement already satisfied: six in /usr/local/lib/python3.6/dist-packages (from cycler>=0.10->matplotlib->descartes) (1.15.0)\n"
          ],
          "name": "stdout"
        }
      ]
    },
    {
      "cell_type": "code",
      "metadata": {
        "id": "gTyNj0GiyJC2"
      },
      "source": [
        "# import geopandas as gpd\n",
        "# import matplotlib.pyplot as plt\n",
        "import pandas as pd # data manipulation library\n",
        "# from shapely import wkt\n",
        "import numpy as np\n",
        "import re\n",
        "import os"
      ],
      "execution_count": null,
      "outputs": []
    },
    {
      "cell_type": "code",
      "metadata": {
        "id": "mJ995vvg1rgv",
        "colab": {
          "base_uri": "https://localhost:8080/",
          "height": 36
        },
        "outputId": "2127e7e8-a9d6-49e9-cabf-026f5d8bd537"
      },
      "source": [
        "fl = pd.DataFrame({'Buoy Number': buoy,'Date': time}) # creating a dataframe for the random data\n",
        "\n",
        "print(fl['Buoy Number'].unique().tolist()) # THIS IS HOW RAW DATA LOOKS, AS GIVEN TO THE SENSORS\n"
      ],
      "execution_count": null,
      "outputs": [
        {
          "output_type": "stream",
          "text": [
            "[8, 2, 1, 4, 10, 5, 6, 7, 3, 9]\n"
          ],
          "name": "stdout"
        }
      ]
    },
    {
      "cell_type": "code",
      "metadata": {
        "id": "sqFp53vY14gQ",
        "colab": {
          "base_uri": "https://localhost:8080/",
          "height": 131
        },
        "outputId": "34ea88cd-2373-4523-c237-6a8e15a5548f"
      },
      "source": [
        "# restructuring data into 2D arrays of Year-Month\n",
        "\n",
        "fl['Year'] = fl['Date'].apply(lambda x: x[0:4]) # CREATING A YEAR COLUMN\n",
        "fl['Month'] = fl['Date'].apply(lambda x: x[5:7]) # CREATING A MONTH COLUMN\n",
        "\n",
        "print(fl.head())\n",
        "\n",
        "fl.to_csv('CleanData.csv') # This is how a supposed server database file looks like"
      ],
      "execution_count": null,
      "outputs": [
        {
          "output_type": "stream",
          "text": [
            "   Buoy Number                 Date  Year Month\n",
            "0            1  2010-01-02 10:15:18  2010    01\n",
            "1            9  2010-01-06 10:06:45  2010    01\n",
            "2            2  2010-01-09 22:49:08  2010    01\n",
            "3            5  2010-01-24 18:06:03  2010    01\n",
            "4            2  2010-01-25 15:45:16  2010    01\n"
          ],
          "name": "stdout"
        }
      ]
    },
    {
      "cell_type": "code",
      "metadata": {
        "id": "PFuf4YsjmV74"
      },
      "source": [
        "# segregate records per yer per month, save it into an excel file\n",
        "def make_monthlyrecord():\n",
        "  monthnames = ['Jan','Feb','Mar','Apr','May','Jun','Jul','Aug','Sep','Oct','Nov','Dec']\n",
        "  fl = pd.read_csv('CleanData.csv')\n",
        "  fl.drop(columns=\"Unnamed: 0\",inplace=True)\n",
        "  Yearly = fl.groupby('Year') # creating a \n",
        "\n",
        "  Monthly = []\n",
        "  for year in Yearly:\n",
        "    monthlyrecord = []\n",
        "    writer = pd.ExcelWriter(str(year[0])+\"record.xlsx\")\n",
        "    for month in year[1].groupby('Month'):\n",
        "      monthdf = month[1].drop(['Month','Year'],axis=1).reset_index(drop=True)\n",
        "      # print(type(month[0]))\n",
        "      monthdf.to_excel(writer,monthnames[int(month[0])-1])\n",
        "      monthlyrecord.append([monthnames[int(month[0])-1],monthdf])\n",
        "    Monthly.append([str(year[0]),monthlyrecord])\n",
        "    # monthlyrecord.to_excel(writer,str(year[0]))\n",
        "    writer.save()\n",
        "    # break #uncomment for yearly, sample is for year 2010\n",
        "make_monthlyrecord()"
      ],
      "execution_count": null,
      "outputs": []
    },
    {
      "cell_type": "code",
      "metadata": {
        "id": "EULcgxQ72SL9"
      },
      "source": [
        "def read_yearrecord(yr:str):\n",
        "  MonthlyList = []\n",
        "  if os.path.isfile(yr+\"record.xlsx\"):\n",
        "      excelfile = pd.ExcelFile(yr+\"record.xlsx\")\n",
        "      for name in excelfile.sheet_names:\n",
        "        MonthlyList.append(read_monthrecord(name,yr)[1])\n",
        "      yeardf = pd.concat(MonthlyList,ignore_index=True)\n",
        "      return (yr,yeardf)\n",
        "  else:\n",
        "    return \"No such year\"\n",
        "\n",
        "def read_monthrecord(month:str, yr:str):\n",
        "  MonthlyList = []\n",
        "  if os.path.isfile(yr+\"record.xlsx\"):\n",
        "      excelfile = pd.ExcelFile(yr+\"record.xlsx\")\n",
        "      if month in excelfile.sheet_names:\n",
        "        monthdf = excelfile.parse(month)\n",
        "        monthdf.drop(columns=\"Unnamed: 0\",inplace = True)\n",
        "        return (month,monthdf)\n",
        "      else:\n",
        "        return \"No such month\"\n",
        "  else:\n",
        "    return \"No such year\"  \n",
        "\n",
        "def read_yearrecordlist(yr:str):\n",
        "  MonthlyList = []\n",
        "  if os.path.isfile(yr+\"record.xlsx\"):\n",
        "      excelfile = pd.ExcelFile(yr+\"record.xlsx\")\n",
        "      for name in excelfile.sheet_names:\n",
        "        MonthlyList.append(read_monthrecord(name,yr))\n",
        "      return (yr,MonthlyList)\n",
        "  else:\n",
        "    return \"No such year\"\n",
        "\n",
        "\n",
        "def make_monthlycounts():\n",
        "  Monthly = []\n",
        "  for i in range(2010,2021):\n",
        "    hold = read_yearrecordlist(str(i))\n",
        "    if hold != \"No such year\":\n",
        "      Monthly.append(hold)\n",
        " \n",
        "  for year in Monthly:\n",
        "      writer = pd.ExcelWriter(str(year[0])+\"monthlycount.xlsx\")\n",
        "      monthlycount = []\n",
        "      for month in year[1]:\n",
        "        buoys = month[1]['Buoy Number'].value_counts().reset_index()\n",
        "        buoys.rename(columns={'Buoy Number':'Count','index':'Buoy Number'},inplace=True)\n",
        "        indexlist = buoys['Buoy Number'].unique()\n",
        "        nullbuoys = [x for x in range(1,11) if x not in indexlist]\n",
        "        nullbuoysdf = pd.DataFrame({'Buoy Number':nullbuoys,'Count':[0]*len(nullbuoys)})\n",
        "        buoys = buoys.append(nullbuoysdf,ignore_index=True).sort_values(by=\"Buoy Number\").reset_index(drop=True)\n",
        "        buoys.to_excel(writer,month[0])\n",
        "      writer.save()  \n",
        "      # break # sample only for 2010\n",
        "\n",
        "def read_yearmonthlycount(yr:str):\n",
        "  MonthlyList = []\n",
        "  if os.path.isfile(yr+\"monthlycount.xlsx\"):\n",
        "      excelfile = pd.ExcelFile(yr+\"monthlycount.xlsx\")\n",
        "      for name in excelfile.sheet_names:\n",
        "        MonthlyList.append(read_monthlycount(name,yr)[1])\n",
        "      yeardf = pd.concat(MonthlyList,ignore_index=True)\n",
        "      return (yr,yeardf)\n",
        "  else:\n",
        "    return \"No such year\"\n",
        "\n",
        "def read_monthlycount(month:str, yr:str):\n",
        "  MonthlyList = []\n",
        "  if os.path.isfile(yr+\"monthlycount.xlsx\"):\n",
        "      excelfile = pd.ExcelFile(yr+\"monthlycount.xlsx\")\n",
        "      if month in excelfile.sheet_names:\n",
        "        monthdf = excelfile.parse(month)\n",
        "        monthdf.drop(columns=\"Unnamed: 0\",inplace = True)\n",
        "        return (month,monthdf)\n",
        "      else:\n",
        "        return \"No such month\"\n",
        "  else:\n",
        "    return \"No such year\"  \n",
        "\n",
        "def read_yearmonthlycountlist(yr:str):\n",
        "  MonthlyList = []\n",
        "  if os.path.isfile(yr+\"monthlycount.xlsx\"):\n",
        "      excelfile = pd.ExcelFile(yr+\"monthlycount.xlsx\")\n",
        "      for name in excelfile.sheet_names:\n",
        "        MonthlyList.append(read_monthlycount(name,yr))\n",
        "      return (yr,MonthlyList)\n",
        "  else:\n",
        "    return \"No such year\"\n",
        "\n",
        "\n",
        "def make_overallyearlycounts():\n",
        "  YearlyCount = []\n",
        "  for i in range(2010,2021):\n",
        "    hold = read_yearmonthlycountlist(str(i))\n",
        "    if hold != \"No such year\":\n",
        "      YearlyCount.append(hold)\n",
        "  \n",
        "  YearOverall = pd.DataFrame(index=[x for x in range(1,11)])\n",
        "  for year in YearlyCount:\n",
        "    sumseries = pd.Series([0]*10)\n",
        "    for month in year[1]:\n",
        "      sumseries = sumseries.add(month[1][\"Count\"])\n",
        "    sumseries.index = [i for i in range(1,11)]\n",
        "    YearOverall[year[0]] = sumseries\n",
        "  writer = pd.ExcelWriter(\"OverallYearlyCount.xlsx\")\n",
        "  YearOverall.to_excel(writer,sheet_name=\"count\")\n",
        "  writer.save()\n",
        "\n",
        "# print(YearOverall)\n",
        "make_monthlycounts()\n",
        "make_overallyearlycounts()"
      ],
      "execution_count": null,
      "outputs": []
    },
    {
      "cell_type": "code",
      "metadata": {
        "id": "jQpo_sgKv273"
      },
      "source": [
        "def read_overallyearlycounts():\n",
        "  if os.path.isfile(\"OverallYearlyCount.xlsx\"):\n",
        "      excelfile = pd.ExcelFile(\"OverallYearlyCount.xlsx\")\n",
        "      df = excelfile.parse(\"count\")\n",
        "      df.index = df[\"Unnamed: 0\"].values\n",
        "      df.drop(columns=[\"Unnamed: 0\"], inplace=True)\n",
        "      return df\n",
        "  else:\n",
        "    return \"No such year\""
      ],
      "execution_count": null,
      "outputs": []
    },
    {
      "cell_type": "code",
      "metadata": {
        "id": "QFivUb9S2yLl",
        "colab": {
          "base_uri": "https://localhost:8080/",
          "height": 627
        },
        "outputId": "25e184b7-21c2-4621-961f-1c58c0d905f9"
      },
      "source": [
        "\n",
        "def yearoverall_heatmap(YearOverall:pd.DataFrame):\n",
        "  fig = plt.figure(figsize=(10,10))\n",
        "  plt.pcolor(YearOverall)\n",
        "  plt.yticks(np.arange(0.5, len(YearOverall.index), 1), [x for x in range(1,11)])\n",
        "  plt.xticks(np.arange(0.5, len(YearOverall.columns), 1), YearOverall.columns)\n",
        "  plt.xlabel(\"Year\")\n",
        "  plt.ylabel(\"Buoy Number\")\n",
        "  plt.title(\"Brgy X's Buoy-Fisher Incidence Heat Map\")\n",
        "  plt.colorbar()\n",
        "  plt.show()\n",
        "\n",
        "yearoverall_heatmap(read_overallyearlycounts())"
      ],
      "execution_count": null,
      "outputs": [
        {
          "output_type": "display_data",
          "data": {
            "image/png": "[encoded data removed]",
            "text/plain": [
              "<Figure size 720x720 with 2 Axes>"
            ]
          },
          "metadata": {
            "tags": []
          }
        }
      ]
    },
    {
      "cell_type": "code",
      "metadata": {
        "id": "6kWzTfRY3CRc"
      },
      "source": [
        "# For barangay based monitoring\n",
        "fpzip = \"/content/ProjectAlon/PHL_adm3.zip\"\n",
        "import zipfile\n",
        "with zipfile.ZipFile(fpzip, 'r') as zip_ref:\n",
        "    zip_ref.extractall(\"/content/ProjectAlon\")\n",
        "fp = \"/content/ProjectAlon/PHL_adm3.shp\"\n",
        "phbrgy_gdf = gpd.read_file(fp, crs=\"EPSG:4326\")\n",
        "\n",
        "# For municipality based monitoring\n",
        "sp = \"/content/ProjectAlon/PHL_adm2.shp\"\n",
        "phmun_gdf = gpd.read_file(sp, crs=\"EPSG:4326\")"
      ],
      "execution_count": null,
      "outputs": []
    },
    {
      "cell_type": "code",
      "metadata": {
        "id": "v0gTKevxfSKV",
        "colab": {
          "base_uri": "https://localhost:8080/",
          "height": 49
        },
        "outputId": "25dbe424-a663-45c9-b73e-c9de8ca68733"
      },
      "source": [
        "BrgyBuoyDf = pd.read_csv(\"/content/ProjectAlon/BrgyBuoy.csv\")\n",
        "BrgyBuoyDf.head()"
      ],
      "execution_count": null,
      "outputs": [
        {
          "output_type": "execute_result",
          "data": {
            "text/html": [
              "<div>\n",
              "<style scoped>\n",
              "    .dataframe tbody tr th:only-of-type {\n",
              "        vertical-align: middle;\n",
              "    }\n",
              "\n",
              "    .dataframe tbody tr th {\n",
              "        vertical-align: top;\n",
              "    }\n",
              "\n",
              "    .dataframe thead th {\n",
              "        text-align: right;\n",
              "    }\n",
              "</style>\n",
              "<table border=\"1\" class=\"dataframe\">\n",
              "  <thead>\n",
              "    <tr style=\"text-align: right;\">\n",
              "      <th></th>\n",
              "      <th>Province</th>\n",
              "      <th>Municipality</th>\n",
              "      <th>Barangay</th>\n",
              "      <th>Buoys</th>\n",
              "      <th>Coordinates</th>\n",
              "    </tr>\n",
              "  </thead>\n",
              "  <tbody>\n",
              "  </tbody>\n",
              "</table>\n",
              "</div>"
            ],
            "text/plain": [
              "Empty DataFrame\n",
              "Columns: [Province, Municipality, Barangay, Buoys, Coordinates]\n",
              "Index: []"
            ]
          },
          "metadata": {
            "tags": []
          },
          "execution_count": 22
        }
      ]
    },
    {
      "cell_type": "code",
      "metadata": {
        "id": "UCr0GX6cyfM0",
        "colab": {
          "base_uri": "https://localhost:8080/",
          "height": 93
        },
        "outputId": "5a8abcf4-cec9-4267-b46c-595baa734cad"
      },
      "source": [
        "# Gets the geodataframe for a specific municipality, municipality-wise\n",
        "def get_municipalityshp(muni:str, prov:str):\n",
        "    return phmun_gdf.loc[(phmun_gdf['NAME_2'] == muni) & (phmun_gdf['NAME_1'] == prov)]\n",
        "\n",
        "# Gets the geodataframe for a specific barangay\n",
        "def get_barangayshp(brgy:str, muni:str, prov:str):\n",
        "    return phbrgy_gdf.loc[((phbrgy_gdf['NAME_2'] == muni) & (phbrgy_gdf['NAME_1'] == prov))\n",
        "                            & (phbrgy_gdf['NAME_3'] == brgy)\n",
        "                        ]\n",
        "\n",
        "barangay = get_barangayshp(\"Tacup\",\"San Remigio\",\"Cebu\")\n",
        "print(barangay)"
      ],
      "execution_count": null,
      "outputs": [
        {
          "output_type": "stream",
          "text": [
            "       ID_0  ISO  ... VARNAME_3                                           geometry\n",
            "11744   179  PHL  ...      None  POLYGON ((123.92961 10.97629, 123.92979 10.976...\n",
            "\n",
            "[1 rows x 14 columns]\n"
          ],
          "name": "stdout"
        }
      ]
    },
    {
      "cell_type": "code",
      "metadata": {
        "id": "bktm6GW4yk5-"
      },
      "source": [
        "\n",
        "# plt.title(\"Barangay Tacup, San Remigio\")\n",
        "def coordFormat(coordinates:[(int,int)]):\n",
        "    coordList = []\n",
        "    for x in coord:\n",
        "        coordList.append('Point(' + str(x[0]) +\" \"+ str(x[1])+')')\n",
        "    return coordList\n",
        "\n",
        "import csv\n",
        "\n",
        "def write_csv(csvstr,data):\n",
        "    with open(csvstr, 'a') as outfile:\n",
        "        writer = csv.writer(outfile)\n",
        "        writer.writerow(data)\n",
        "        \n",
        "def read_buoys(buoys):\n",
        "    return[int(x) for x in re.split('\\[|, |\\]',buoys)[1:-1]]\n",
        "\n",
        "def read_coordinates(buoys):\n",
        "    return[x for x in re.split(\"\\[|, |\\]|\\\\|\\\"|\\'|\\\"\",buoys)[1:-1] if len(x)!=0]\n",
        "    "
      ],
      "execution_count": null,
      "outputs": []
    },
    {
      "cell_type": "code",
      "metadata": {
        "id": "V5rb-jCGyliB",
        "colab": {
          "base_uri": "https://localhost:8080/",
          "height": 80
        },
        "outputId": "1e9e04d5-8785-46ed-82e1-f0d3a1bfa4bb"
      },
      "source": [
        "def addBuoys(brgy:str, muni:str, prov: str, buoycounts:int, coordinates:[(int,int)]):\n",
        "    df = pd.read_csv('/content/ProjectAlon/BrgyBuoy.csv')\n",
        "    if brgy in df['Barangay'].values:\n",
        "        rowdata = df.loc[df[\"Barangay\"]==brgy]\n",
        "        buoylist = read_buoys(rowdata.iloc[0][\"Buoys\"])\n",
        "        df.loc[df[\"Barangay\"]==brgy, \"Buoys\"] = str(buoylist + [len(buoylist)+ i for i in range(1,buoycounts+1)])\n",
        "        buoycoordinates = read_coordinates(rowdata.iloc[0][\"Coordinates\"])\n",
        "        df.loc[df[\"Barangay\"]==brgy, \"Coordinates\"] = str(buoycoordinates + coordFormat(coordinates))\n",
        "        df.to_csv(\"/content/ProjectAlon/BrgyBuoy.csv\",index=False)\n",
        "    else:\n",
        "        write_csv('/content/ProjectAlon/BrgyBuoy.csv',[prov,muni,brgy,[i for i in range(1,buoycounts+1)],coordFormat(coordinates)])    \n",
        "    return pd.read_csv('/content/ProjectAlon/BrgyBuoy.csv')\n",
        "\n",
        "brgy = \"Tacup\"\n",
        "muni = \"San Remigio\"\n",
        "prov = \"Cebu\"\n",
        "buoys = 5\n",
        "coord = [(123.928528,10.988821), (123.928217, 10.988252), (123.927509, 10.986167), \n",
        "         (123.926097, 10.983312), (123.926494, 10.981964)]\n",
        "\n",
        "        \n",
        "addBuoys(brgy,muni,prov,buoys,coord).head()"
      ],
      "execution_count": null,
      "outputs": [
        {
          "output_type": "execute_result",
          "data": {
            "text/html": [
              "<div>\n",
              "<style scoped>\n",
              "    .dataframe tbody tr th:only-of-type {\n",
              "        vertical-align: middle;\n",
              "    }\n",
              "\n",
              "    .dataframe tbody tr th {\n",
              "        vertical-align: top;\n",
              "    }\n",
              "\n",
              "    .dataframe thead th {\n",
              "        text-align: right;\n",
              "    }\n",
              "</style>\n",
              "<table border=\"1\" class=\"dataframe\">\n",
              "  <thead>\n",
              "    <tr style=\"text-align: right;\">\n",
              "      <th></th>\n",
              "      <th>Province</th>\n",
              "      <th>Municipality</th>\n",
              "      <th>Barangay</th>\n",
              "      <th>Buoys</th>\n",
              "      <th>Coordinates</th>\n",
              "    </tr>\n",
              "  </thead>\n",
              "  <tbody>\n",
              "    <tr>\n",
              "      <th>0</th>\n",
              "      <td>Cebu</td>\n",
              "      <td>San Remigio</td>\n",
              "      <td>Tacup</td>\n",
              "      <td>[1, 2, 3, 4, 5]</td>\n",
              "      <td>['Point(123.928528 10.988821)', 'Point(123.928...</td>\n",
              "    </tr>\n",
              "  </tbody>\n",
              "</table>\n",
              "</div>"
            ],
            "text/plain": [
              "  Province  ...                                        Coordinates\n",
              "0     Cebu  ...  ['Point(123.928528 10.988821)', 'Point(123.928...\n",
              "\n",
              "[1 rows x 5 columns]"
            ]
          },
          "metadata": {
            "tags": []
          },
          "execution_count": 26
        }
      ]
    },
    {
      "cell_type": "code",
      "metadata": {
        "id": "CBt3pinvyv1E"
      },
      "source": [
        "def get_barangaybuoy_data(brgy:str,muni:str,prov:str):\n",
        "    df = pd.read_csv('/content/ProjectAlon/BrgyBuoy.csv')\n",
        "    x = df.loc[((df['Municipality'] == muni) & (df['Province'] == prov))\n",
        "                        & (df['Barangay'] == brgy)\n",
        "                    ]\n",
        "    if len(x) == 0:\n",
        "        return \"No such barangay\"\n",
        "    else:\n",
        "        return x\n",
        "    \n",
        "def get_barangaybuoy_coordinates(brgy:str,muni:str,prov:str):\n",
        "    df = pd.read_csv('/content/ProjectAlon/BrgyBuoy.csv')\n",
        "    x = df.loc[((df['Municipality'] == muni) & (df['Province'] == prov))\n",
        "                        & (df['Barangay'] == brgy)\n",
        "                    ]\n",
        "    if len(x) == 0:\n",
        "        return \"No such barangay\"\n",
        "    else:\n",
        "        return x.iloc[0][\"Coordinates\"]"
      ],
      "execution_count": null,
      "outputs": []
    },
    {
      "cell_type": "code",
      "metadata": {
        "id": "swHr5ymuy05C",
        "colab": {
          "base_uri": "https://localhost:8080/",
          "height": 1000
        },
        "outputId": "a275243a-2ed5-419c-abf9-3961d414878b"
      },
      "source": [
        "def plot_barangay(brgy:str,muni:str,prov:str):\n",
        "    plt.rcParams['figure.figsize'] = [25, 25]#height, width\n",
        "    brgygdf = get_barangayshp(brgy,muni,prov)\n",
        "    buoys = get_barangaybuoy_coordinates(brgy,muni,prov)\n",
        "    if(buoys[0] == 'N'):\n",
        "        return buoys\n",
        "    else:\n",
        "        buoys = read_coordinates(buoys)\n",
        "        buoydf = pd.DataFrame({'Coordinates':buoys})\n",
        "        buoydf['Coordinates'] = buoydf[\"Coordinates\"].apply(wkt.loads)\n",
        "        gdf = gpd.GeoDataFrame(buoydf, geometry='Coordinates')\n",
        "        ax = brgygdf.plot()\n",
        "        gdf.plot(ax=ax, color='red')\n",
        "        plt.show()\n",
        "    \n",
        "plot_barangay(\"Tacup\",\"San Remigio\",\"Cebu\")"
      ],
      "execution_count": null,
      "outputs": [
        {
          "output_type": "display_data",
          "data": {
            "image/png": "[encoded data removed]",
            "text/plain": [
              "<Figure size 1800x1800 with 1 Axes>"
            ]
          },
          "metadata": {
            "tags": [],
            "needs_background": "light"
          }
        }
      ]
    },
    {
      "cell_type": "code",
      "metadata": {
        "id": "XzfkKIywy38Q"
      },
      "source": [
        "# Assuming that radar detects objects in a XY coordinate system, we use the distance formula\n",
        "# as a simple way of assigning detected boats with respect to the buoys' coverage\n",
        "\n",
        "def nearestBuoy(detect:(int,int),buoys:[(int,int)]):\n",
        "    nearest = 0\n",
        "    distance = 5000 # distance here would be equivalent to scaling of 1.5 km within the buoy\n",
        "    for i in range(buoys):\n",
        "        distance1 = ((buoys[i][0]-detect[0])**2 + (buoys[i][1]-detect[1])) ** .5\n",
        "        if distance1 < distance:\n",
        "            distance = distance1\n",
        "            nearest = i\n",
        "    return nearest, distance"
      ],
      "execution_count": null,
      "outputs": []
    }
  ]
}